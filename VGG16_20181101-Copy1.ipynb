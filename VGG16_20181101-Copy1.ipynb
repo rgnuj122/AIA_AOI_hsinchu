{
 "cells": [
  {
   "cell_type": "code",
   "execution_count": 1,
   "metadata": {},
   "outputs": [
    {
     "name": "stderr",
     "output_type": "stream",
     "text": [
      "Using TensorFlow backend.\n"
     ]
    },
    {
     "name": "stdout",
     "output_type": "stream",
     "text": [
      "[name: \"/device:CPU:0\"\n",
      "device_type: \"CPU\"\n",
      "memory_limit: 268435456\n",
      "locality {\n",
      "}\n",
      "incarnation: 16083514231930950581\n",
      ", name: \"/device:GPU:0\"\n",
      "device_type: \"GPU\"\n",
      "memory_limit: 10911298356\n",
      "locality {\n",
      "  bus_id: 1\n",
      "  links {\n",
      "  }\n",
      "}\n",
      "incarnation: 2245381584707238467\n",
      "physical_device_desc: \"device: 0, name: GeForce GTX 1080 Ti, pci bus id: 0000:0c:00.0, compute capability: 6.1\"\n",
      "]\n",
      "[name: \"/device:CPU:0\"\n",
      "device_type: \"CPU\"\n",
      "memory_limit: 268435456\n",
      "locality {\n",
      "}\n",
      "incarnation: 7658023450897115414\n",
      ", name: \"/device:GPU:0\"\n",
      "device_type: \"GPU\"\n",
      "memory_limit: 10911298356\n",
      "locality {\n",
      "  bus_id: 1\n",
      "  links {\n",
      "  }\n",
      "}\n",
      "incarnation: 18056452195419579859\n",
      "physical_device_desc: \"device: 0, name: GeForce GTX 1080 Ti, pci bus id: 0000:0c:00.0, compute capability: 6.1\"\n",
      "]\n",
      "0:Pass:16536 times:1\n",
      "1:Missing:5068 times:3\n",
      "2:MissAlignment:167 times:99\n",
      "3:Tombstone_SideStanding:81 times:204\n",
      "4:PartsReversed:224 times:73\n",
      "5:ExcessComponent:362 times:45\n",
      "6:Other_Damage:346 times:47\n",
      "7:VoidSolder_Short:518 times:31\n",
      "8:TextMissing:3006 times:5\n",
      "9:tag:63 times:262\n",
      "len(train_list): 161295\n"
     ]
    }
   ],
   "source": [
    "import warnings\n",
    "warnings.filterwarnings('ignore')\n",
    "\n",
    "import keras\n",
    "from keras.preprocessing.image import ImageDataGenerator, load_img, img_to_array\n",
    "from keras.models import Sequential, load_model, Model\n",
    "from keras.layers import Dense, Dropout, Activation, Flatten\n",
    "from keras.layers import Conv2D, MaxPooling2D, BatchNormalization, GlobalAveragePooling2D\n",
    "from keras.callbacks import EarlyStopping, ModelCheckpoint\n",
    "\n",
    "import matplotlib.pyplot as plt\n",
    "import pandas as pd\n",
    "import numpy as np\n",
    "\n",
    "from sklearn.utils import shuffle \n",
    "\n",
    "from math import ceil,floor\n",
    "import os\n",
    "import cv2\n",
    "\n",
    "import logging\n",
    "logging.basicConfig(filename='log.txt',level=logging.DEBUG,format='%(asctime)s %(name)s - %(levelname)-s: %(message)s')\n",
    "\n",
    "from tensorflow.python.client import device_lib\n",
    "print(device_lib.list_local_devices())\n",
    "\n",
    "from CNN_require import *"
   ]
  },
  {
   "cell_type": "raw",
   "metadata": {},
   "source": [
    "# 此例完全不鎖層，充分的 fine tuning\n",
    "model_name = 'VGG16-Fine-Tune_datav6'\n",
    "\n",
    "from keras.layers import Input\n",
    "base_model = keras.applications.vgg16.VGG16(weights='imagenet', include_top=False,\n",
    "                                            input_shape=(img_rows, img_cols, 3))\n",
    "for i,layer in enumerate(base_model.layers):\n",
    "    layer.trainable = True\n",
    "x = base_model.output\n",
    "x = Flatten()(x)\n",
    "x = Dropout(0.5)(x)\n",
    "predictions = Dense(num_classes, activation='softmax')(x)\n",
    "\n",
    "model = Model(inputs = base_model.input, outputs=predictions)\n",
    "model.summary()"
   ]
  },
  {
   "cell_type": "code",
   "execution_count": 3,
   "metadata": {},
   "outputs": [
    {
     "name": "stdout",
     "output_type": "stream",
     "text": [
      "model_name: VGG16-Fine-Tune_datav6\n"
     ]
    }
   ],
   "source": [
    "model_name = saved_model.split('_')[0]+'_'+saved_model.split('_')[1]\n",
    "print(f\"model_name: {model_name}\")\n",
    "model = load_model(os.path.join('saved_models',\"VGG16-Fine-Tune_datav6_0.8870_cropimg.h5\"))\n",
    "# model.summary()"
   ]
  },
  {
   "cell_type": "code",
   "execution_count": 4,
   "metadata": {},
   "outputs": [
    {
     "name": "stdout",
     "output_type": "stream",
     "text": [
      "(161295, 10)\n"
     ]
    }
   ],
   "source": [
    "# import cv2\n",
    "from sklearn.model_selection import train_test_split\n",
    "\"\"\" Split the list into training set and validation set \"\"\"\n",
    "img_label_one_hot = pd.get_dummies(img_labels,'').as_matrix()\n",
    "# print(img_label_one_hot)\n",
    "print(img_label_one_hot.shape)"
   ]
  },
  {
   "cell_type": "code",
   "execution_count": 5,
   "metadata": {},
   "outputs": [],
   "source": [
    "train_img_paths, valid_img_paths, y_train, y_valid = train_test_split(img_paths, img_label_one_hot, test_size=test_size,shuffle = True)"
   ]
  },
  {
   "cell_type": "raw",
   "metadata": {},
   "source": [
    "_,_=next(AOI_train_batch_generator(train_img_paths,y_train,batch_size,img_size))"
   ]
  },
  {
   "cell_type": "code",
   "execution_count": 6,
   "metadata": {},
   "outputs": [],
   "source": [
    "train_gen = AOI_train_batch_generator(train_img_paths,y_train,batch_size,img_size)\n",
    "valid_gen = AOI_train_batch_generator(valid_img_paths,y_valid,batch_size,img_size)"
   ]
  },
  {
   "cell_type": "code",
   "execution_count": 7,
   "metadata": {},
   "outputs": [
    {
     "name": "stdout",
     "output_type": "stream",
     "text": [
      "val steps: 26/val size: 40324\n",
      "train step: 76/train size: 120971\n",
      "batch size: 16\n"
     ]
    }
   ],
   "source": [
    "validation_steps=ceil(len(valid_img_paths)/(batch_size*epochs))\n",
    "steps_per_epoch = ceil(len(train_img_paths)/(batch_size*epochs))\n",
    "print(f\"val steps: {validation_steps}/val size: {len(valid_img_paths)}\\ntrain step: {steps_per_epoch}/train size: {len(train_img_paths)}\\nbatch size: {batch_size}\")"
   ]
  },
  {
   "cell_type": "raw",
   "metadata": {},
   "source": [
    "validation_steps=100\n",
    "steps_per_epoch=100"
   ]
  },
  {
   "cell_type": "code",
   "execution_count": 8,
   "metadata": {},
   "outputs": [],
   "source": [
    "def check_create_folder(path):\n",
    "    if not os.path.exists(path):\n",
    "        print(f\"{path}\\n{os.path.dirname(path)}\")\n",
    "        os.makedirs(path)"
   ]
  },
  {
   "cell_type": "code",
   "execution_count": 9,
   "metadata": {},
   "outputs": [
    {
     "name": "stdout",
     "output_type": "stream",
     "text": [
      "Epoch 1/100\n",
      "\n",
      " 4/76 [>.............................] - ETA: 1:13 - loss: 0.4805 - acc: 0.8594\n",
      "43/76 [===============>..............] - ETA: 18s - loss: 0.4633 - acc: 0.8532\n",
      "65/76 [========================>.....] - ETA: 5s - loss: 0.4403 - acc: 0.8577\n",
      "76/76 [==============================] - 52s 678ms/step - loss: 0.4498 - acc: 0.8553 - val_loss: 0.3411 - val_acc: 0.8894\n",
      "\n",
      "Epoch 00001: val_loss improved from inf to 0.34114, saving model to ./saved_models/VGG16-Fine-Tune_datav6_0.8894_cropimg.h5\n",
      "Epoch 2/100\n",
      "17/76 [=====>........................] - ETA: 12s - loss: 0.3970 - acc: 0.8676\n",
      "18/76 [======>.......................] - ETA: 12s - loss: 0.4262 - acc: 0.8576\n",
      "75/76 [============================>.] - ETA: 0s - loss: 0.4044 - acc: 0.8600\n",
      "76/76 [==============================] - 44s 576ms/step - loss: 0.4068 - acc: 0.8577 - val_loss: 0.3695 - val_acc: 0.8846\n",
      "\n",
      "Epoch 00002: val_loss did not improve from 0.34114\n",
      "Epoch 3/100\n",
      " 7/76 [=>............................] - ETA: 9s - loss: 0.4663 - acc: 0.8304\n",
      " 9/76 [==>...........................] - ETA: 9s - loss: 0.4198 - acc: 0.8403\n",
      "19/76 [======>.......................] - ETA: 13s - loss: 0.3749 - acc: 0.8717\n",
      "28/76 [==========>...................] - ETA: 15s - loss: 0.4269 - acc: 0.8571\n",
      "32/76 [===========>..................] - ETA: 15s - loss: 0.4035 - acc: 0.8633\n",
      "66/76 [=========================>....] - ETA: 4s - loss: 0.4313 - acc: 0.8570\n",
      "70/76 [==========================>...] - ETA: 2s - loss: 0.4334 - acc: 0.8554\n",
      "76/76 [==============================] - 43s 561ms/step - loss: 0.4354 - acc: 0.8561 - val_loss: 0.2920 - val_acc: 0.9014\n",
      "\n",
      "Epoch 00003: val_loss improved from 0.34114 to 0.29199, saving model to ./saved_models/VGG16-Fine-Tune_datav6_0.9014_cropimg.h5\n",
      "Epoch 4/100\n",
      "17/76 [=====>........................] - ETA: 14s - loss: 0.4523 - acc: 0.8529\n",
      "24/76 [========>.....................] - ETA: 16s - loss: 0.4481 - acc: 0.8542\n",
      "30/76 [==========>...................] - ETA: 16s - loss: 0.4417 - acc: 0.8542\n",
      "60/76 [======================>.......] - ETA: 7s - loss: 0.4304 - acc: 0.8552\n",
      "\n",
      "76/76 [==============================] - 42s 554ms/step - loss: 0.4266 - acc: 0.8561 - val_loss: 0.3054 - val_acc: 0.8966\n",
      "\n",
      "Epoch 00004: val_loss did not improve from 0.29199\n",
      "Epoch 5/100\n",
      "24/76 [========>.....................] - ETA: 15s - loss: 0.4250 - acc: 0.8646\n",
      "33/76 [============>.................] - ETA: 15s - loss: 0.4098 - acc: 0.8655\n",
      "48/76 [=================>............] - ETA: 11s - loss: 0.4085 - acc: 0.8698\n",
      "68/76 [=========================>....] - ETA: 3s - loss: 0.4057 - acc: 0.8649\n",
      "69/76 [==========================>...] - ETA: 3s - loss: 0.4044 - acc: 0.8659\n",
      "75/76 [============================>.] - ETA: 0s - loss: 0.4035 - acc: 0.8667\n",
      "\n",
      "76/76 [==============================] - 42s 547ms/step - loss: 0.4023 - acc: 0.8668 - val_loss: 0.2395 - val_acc: 0.9351\n",
      "\n",
      "Epoch 00005: val_loss improved from 0.29199 to 0.23948, saving model to ./saved_models/VGG16-Fine-Tune_datav6_0.9351_cropimg.h5\n",
      "Epoch 6/100\n",
      "15/76 [====>.........................] - ETA: 12s - loss: 0.3958 - acc: 0.8833\n",
      "\n",
      "25/76 [========>.....................] - ETA: 16s - loss: 0.3732 - acc: 0.8950\n",
      "66/76 [=========================>....] - ETA: 4s - loss: 0.3401 - acc: 0.8949\n",
      "74/76 [============================>.] - ETA: 0s - loss: 0.3337 - acc: 0.8936\n",
      "76/76 [==============================] - 42s 552ms/step - loss: 0.3284 - acc: 0.8956 - val_loss: 0.2639 - val_acc: 0.9207\n",
      "\n",
      "Epoch 00006: val_loss did not improve from 0.23948\n",
      "Epoch 7/100\n",
      "44/76 [================>.............] - ETA: 13s - loss: 0.4262 - acc: 0.8693\n",
      "46/76 [=================>............] - ETA: 12s - loss: 0.4268 - acc: 0.8682\n",
      "55/76 [====================>.........] - ETA: 8s - loss: 0.4121 - acc: 0.8705\n",
      "76/76 [==============================] - 42s 556ms/step - loss: 0.3777 - acc: 0.8775 - val_loss: 0.3082 - val_acc: 0.9014\n",
      "\n",
      "Epoch 00007: val_loss did not improve from 0.23948\n",
      "Epoch 8/100\n",
      " 3/76 [>.............................] - ETA: 10s - loss: 0.2694 - acc: 0.8958\n",
      "37/76 [=============>................] - ETA: 15s - loss: 0.3778 - acc: 0.8666\n",
      "76/76 [==============================] - 43s 565ms/step - loss: 0.3654 - acc: 0.8742 - val_loss: 0.2996 - val_acc: 0.8774\n",
      "\n",
      "Epoch 00008: val_loss did not improve from 0.23948\n",
      "Epoch 9/100\n",
      "\n",
      "44/76 [================>.............] - ETA: 13s - loss: 0.3460 - acc: 0.8835\n",
      "50/76 [==================>...........] - ETA: 11s - loss: 0.3390 - acc: 0.8838\n",
      "75/76 [============================>.] - ETA: 0s - loss: 0.3405 - acc: 0.8842\n",
      "\n",
      "76/76 [==============================] - 43s 571ms/step - loss: 0.3385 - acc: 0.8849 - val_loss: 0.1977 - val_acc: 0.9351\n",
      "\n",
      "Epoch 00009: val_loss improved from 0.23948 to 0.19768, saving model to ./saved_models/VGG16-Fine-Tune_datav6_0.9351_cropimg.h5\n",
      "Epoch 10/100\n",
      " 3/76 [>.............................] - ETA: 10s - loss: 0.2445 - acc: 0.9167\n",
      "\n",
      " 5/76 [>.............................] - ETA: 9s - loss: 0.2822 - acc: 0.9000 \n",
      "13/76 [====>.........................] - ETA: 8s - loss: 0.2723 - acc: 0.9183\n",
      "66/76 [=========================>....] - ETA: 4s - loss: 0.3003 - acc: 0.9091\n",
      "69/76 [==========================>...] - ETA: 3s - loss: 0.2945 - acc: 0.9103\n",
      "75/76 [============================>.] - ETA: 0s - loss: 0.2883 - acc: 0.9125\n",
      "\n",
      "76/76 [==============================] - 43s 571ms/step - loss: 0.2904 - acc: 0.9128 - val_loss: 0.2194 - val_acc: 0.9231\n",
      "\n",
      "Epoch 00010: val_loss did not improve from 0.19768\n",
      "Epoch 11/100\n",
      "18/76 [======>.......................] - ETA: 13s - loss: 0.2825 - acc: 0.9167\n",
      "69/76 [==========================>...] - ETA: 3s - loss: 0.2937 - acc: 0.8886\n",
      "75/76 [============================>.] - ETA: 0s - loss: 0.2949 - acc: 0.8883\n",
      "76/76 [==============================] - 44s 577ms/step - loss: 0.2948 - acc: 0.8890 - val_loss: 0.2355 - val_acc: 0.9279\n",
      "\n",
      "Epoch 00011: val_loss did not improve from 0.19768\n",
      "Epoch 12/100\n",
      "17/76 [=====>........................] - ETA: 12s - loss: 0.3497 - acc: 0.8897\n",
      "18/76 [======>.......................] - ETA: 13s - loss: 0.3462 - acc: 0.8889\n",
      "19/76 [======>.......................] - ETA: 13s - loss: 0.3415 - acc: 0.8914\n",
      "\n",
      "25/76 [========>.....................] - ETA: 16s - loss: 0.3069 - acc: 0.9050\n",
      "35/76 [============>.................] - ETA: 15s - loss: 0.3183 - acc: 0.8982\n",
      "56/76 [=====================>........] - ETA: 9s - loss: 0.3110 - acc: 0.9096\n",
      "64/76 [========================>.....] - ETA: 5s - loss: 0.3050 - acc: 0.9131\n",
      "75/76 [============================>.] - ETA: 0s - loss: 0.3046 - acc: 0.9133\n",
      "\n",
      "\n",
      "76/76 [==============================] - 46s 599ms/step - loss: 0.3051 - acc: 0.9137 - val_loss: 0.1877 - val_acc: 0.9423\n",
      "\n",
      "Epoch 00012: val_loss improved from 0.19768 to 0.18766, saving model to ./saved_models/VGG16-Fine-Tune_datav6_0.9423_cropimg.h5\n",
      "Epoch 13/100\n",
      " 1/76 [..............................] - ETA: 11s - loss: 0.3399 - acc: 0.9375\n",
      "21/76 [=======>......................] - ETA: 16s - loss: 0.2553 - acc: 0.9137\n",
      "47/76 [=================>............] - ETA: 12s - loss: 0.2919 - acc: 0.9016\n",
      "68/76 [=========================>....] - ETA: 3s - loss: 0.3016 - acc: 0.9007\n",
      "76/76 [==============================] - 45s 588ms/step - loss: 0.3112 - acc: 0.8964 - val_loss: 0.1930 - val_acc: 0.9375\n",
      "\n",
      "Epoch 00013: val_loss did not improve from 0.18766\n",
      "Epoch 14/100\n",
      "13/76 [====>.........................] - ETA: 8s - loss: 0.2787 - acc: 0.9183\n",
      "52/76 [===================>..........] - ETA: 10s - loss: 0.2510 - acc: 0.9207\n",
      "65/76 [========================>.....] - ETA: 5s - loss: 0.2389 - acc: 0.9212\n",
      "73/76 [===========================>..] - ETA: 1s - loss: 0.2441 - acc: 0.9238\n",
      "75/76 [============================>.] - ETA: 0s - loss: 0.2447 - acc: 0.9233\n",
      "\n",
      "\n",
      "76/76 [==============================] - 45s 588ms/step - loss: 0.2416 - acc: 0.9243 - val_loss: 0.2032 - val_acc: 0.9399\n",
      "\n",
      "Epoch 00014: val_loss did not improve from 0.18766\n",
      "Epoch 15/100\n",
      "19/76 [======>.......................] - ETA: 13s - loss: 0.2971 - acc: 0.9112\n",
      "21/76 [=======>......................] - ETA: 14s - loss: 0.2886 - acc: 0.9107\n",
      "54/76 [====================>.........] - ETA: 9s - loss: 0.3118 - acc: 0.9051\n",
      "55/76 [====================>.........] - ETA: 9s - loss: 0.3080 - acc: 0.9068\n",
      "75/76 [============================>.] - ETA: 0s - loss: 0.2966 - acc: 0.9075\n",
      "76/76 [==============================] - 43s 571ms/step - loss: 0.2973 - acc: 0.9071 - val_loss: 0.2055 - val_acc: 0.9351\n",
      "\n",
      "Epoch 00015: val_loss did not improve from 0.18766\n",
      "Epoch 16/100\n",
      "23/76 [========>.....................] - ETA: 14s - loss: 0.2380 - acc: 0.9321\n",
      "57/76 [=====================>........] - ETA: 8s - loss: 0.2403 - acc: 0.9287\n",
      "75/76 [============================>.] - ETA: 0s - loss: 0.2431 - acc: 0.9192\n",
      "\n",
      "76/76 [==============================] - 44s 576ms/step - loss: 0.2437 - acc: 0.9186 - val_loss: 0.2063 - val_acc: 0.9327\n",
      "\n",
      "Epoch 00016: val_loss did not improve from 0.18766\n",
      "Epoch 17/100\n",
      "14/76 [====>.........................] - ETA: 8s - loss: 0.2148 - acc: 0.9330\n",
      "\n",
      "16/76 [=====>........................] - ETA: 10s - loss: 0.2177 - acc: 0.9336\n",
      "22/76 [=======>......................] - ETA: 14s - loss: 0.2311 - acc: 0.9347\n",
      "48/76 [=================>............] - ETA: 11s - loss: 0.2528 - acc: 0.9141\n",
      "\n",
      "57/76 [=====================>........] - ETA: 7s - loss: 0.2781 - acc: 0.9035\n",
      "76/76 [==============================] - 41s 542ms/step - loss: 0.2796 - acc: 0.9046 - val_loss: 0.2376 - val_acc: 0.9375\n",
      "\n",
      "Epoch 00017: val_loss did not improve from 0.18766\n",
      "Epoch 00017: early stopping\n"
     ]
    }
   ],
   "source": [
    "optimizer = keras.optimizers.Adam(lr=10e-6)\n",
    "saveDir = 'saved_models'\n",
    "# model_path = f'saved_models/{model_name}_{val_loss}.h5'\n",
    "check_create_folder(saveDir)\n",
    "checkpoint = ModelCheckpoint('./{0}/{2}_{1}_cropimg.h5'.format(saveDir, '{val_acc:.4f}',model_name)\n",
    "                             , monitor='val_loss', save_best_only=True, verbose=1)\n",
    "earlystop = EarlyStopping(monitor='val_loss', patience=5, verbose=1)\n",
    "\n",
    "model.compile(loss='categorical_crossentropy',\n",
    "              optimizer=optimizer, metrics=['accuracy'])\n",
    "\n",
    "model_history = model.fit_generator(train_gen,\n",
    "                                    epochs = epochs,\n",
    "                                    validation_data = valid_gen,\n",
    "                                    callbacks = [checkpoint, earlystop],\n",
    "                                    steps_per_epoch = steps_per_epoch,\n",
    "                                    validation_steps = validation_steps)"
   ]
  },
  {
   "cell_type": "code",
   "execution_count": 10,
   "metadata": {},
   "outputs": [
    {
     "data": {
      "image/png": "[encoded data removed]",
      "text/plain": [
       "<Figure size 432x288 with 1 Axes>"
      ]
     },
     "metadata": {
      "needs_background": "light"
     },
     "output_type": "display_data"
    },
    {
     "data": {
      "image/png": "[encoded data removed]",
      "text/plain": [
       "<Figure size 432x288 with 1 Axes>"
      ]
     },
     "metadata": {
      "needs_background": "light"
     },
     "output_type": "display_data"
    }
   ],
   "source": [
    "training_loss = model_history.history['loss']\n",
    "val_loss = model_history.history['val_loss']\n",
    "\n",
    "plt.plot(training_loss, label=\"training_loss\")\n",
    "plt.plot(val_loss, label=\"validation_loss\")\n",
    "plt.xlabel(\"Epochs\")\n",
    "plt.ylabel(\"Loss\")\n",
    "plt.title(\"Learning Curve\")\n",
    "plt.legend(loc='best')\n",
    "plt.show()\n",
    "\n",
    "training_acc = model_history.history['acc']\n",
    "val_acc = model_history.history['val_acc']\n",
    "\n",
    "plt.plot(training_acc, label=\"training_acc\")\n",
    "plt.plot(val_acc, label=\"validation_acc\")\n",
    "plt.xlabel(\"Epochs\")\n",
    "plt.ylabel(\"Acc\")\n",
    "plt.title(\"Learning Curve\")\n",
    "plt.legend(loc='best')\n",
    "plt.show()"
   ]
  },
  {
   "cell_type": "markdown",
   "metadata": {},
   "source": [
    "##### load test data"
   ]
  },
  {
   "cell_type": "code",
   "execution_count": 11,
   "metadata": {},
   "outputs": [
    {
     "name": "stdout",
     "output_type": "stream",
     "text": [
      "(893, 224, 224, 3)\n"
     ]
    }
   ],
   "source": [
    "test_path = os.path.join(data_dir_path,'testset')\n",
    "img_ID=[]\n",
    "test_img_data_list=[]\n",
    "test_img_class=[]\n",
    "for img in sorted(os.listdir(test_path), key=str.lower):\n",
    "    if img.endswith('.jpg'):\n",
    "        test_img_class.append(get_class_id(img))\n",
    "        x = img.split('.')\n",
    "        img_ID.append(x[0])\n",
    "        paths = test_path + '/' + img\n",
    "        img = load_img(paths)\n",
    "        img = np.array(img)\n",
    "        test_img_data_list.append(img)\n",
    "X_test = np.array(test_img_data_list)\n",
    "print(X_test.shape)"
   ]
  },
  {
   "cell_type": "code",
   "execution_count": 12,
   "metadata": {},
   "outputs": [
    {
     "name": "stdout",
     "output_type": "stream",
     "text": [
      "_________________________________________________________________\n",
      "Layer (type)                 Output Shape              Param #   \n",
      "=================================================================\n",
      "input_1 (InputLayer)         (None, 224, 224, 3)       0         \n",
      "_________________________________________________________________\n",
      "block1_conv1 (Conv2D)        (None, 224, 224, 64)      1792      \n",
      "_________________________________________________________________\n",
      "block1_conv2 (Conv2D)        (None, 224, 224, 64)      36928     \n",
      "_________________________________________________________________\n",
      "block1_pool (MaxPooling2D)   (None, 112, 112, 64)      0         \n",
      "_________________________________________________________________\n",
      "block2_conv1 (Conv2D)        (None, 112, 112, 128)     73856     \n",
      "_________________________________________________________________\n",
      "block2_conv2 (Conv2D)        (None, 112, 112, 128)     147584    \n",
      "_________________________________________________________________\n",
      "block2_pool (MaxPooling2D)   (None, 56, 56, 128)       0         \n",
      "_________________________________________________________________\n",
      "block3_conv1 (Conv2D)        (None, 56, 56, 256)       295168    \n",
      "_________________________________________________________________\n",
      "block3_conv2 (Conv2D)        (None, 56, 56, 256)       590080    \n",
      "_________________________________________________________________\n",
      "block3_conv3 (Conv2D)        (None, 56, 56, 256)       590080    \n",
      "_________________________________________________________________\n",
      "block3_pool (MaxPooling2D)   (None, 28, 28, 256)       0         \n",
      "_________________________________________________________________\n",
      "block4_conv1 (Conv2D)        (None, 28, 28, 512)       1180160   \n",
      "_________________________________________________________________\n",
      "block4_conv2 (Conv2D)        (None, 28, 28, 512)       2359808   \n",
      "_________________________________________________________________\n",
      "block4_conv3 (Conv2D)        (None, 28, 28, 512)       2359808   \n",
      "_________________________________________________________________\n",
      "block4_pool (MaxPooling2D)   (None, 14, 14, 512)       0         \n",
      "_________________________________________________________________\n",
      "block5_conv1 (Conv2D)        (None, 14, 14, 512)       2359808   \n",
      "_________________________________________________________________\n",
      "block5_conv2 (Conv2D)        (None, 14, 14, 512)       2359808   \n",
      "_________________________________________________________________\n",
      "block5_conv3 (Conv2D)        (None, 14, 14, 512)       2359808   \n",
      "_________________________________________________________________\n",
      "block5_pool (MaxPooling2D)   (None, 7, 7, 512)         0         \n",
      "_________________________________________________________________\n",
      "flatten_1 (Flatten)          (None, 25088)             0         \n",
      "_________________________________________________________________\n",
      "dropout_1 (Dropout)          (None, 25088)             0         \n",
      "_________________________________________________________________\n",
      "dense_1 (Dense)              (None, 10)                250890    \n",
      "=================================================================\n",
      "Total params: 14,965,578\n",
      "Trainable params: 14,965,578\n",
      "Non-trainable params: 0\n",
      "_________________________________________________________________\n",
      "_________________________________________________________________\n",
      "Layer (type)                 Output Shape              Param #   \n",
      "=================================================================\n",
      "input_1 (InputLayer)         (None, 224, 224, 3)       0         \n",
      "_________________________________________________________________\n",
      "block1_conv1 (Conv2D)        (None, 224, 224, 64)      1792      \n",
      "_________________________________________________________________\n",
      "block1_conv2 (Conv2D)        (None, 224, 224, 64)      36928     \n",
      "_________________________________________________________________\n",
      "block1_pool (MaxPooling2D)   (None, 112, 112, 64)      0         \n",
      "_________________________________________________________________\n",
      "block2_conv1 (Conv2D)        (None, 112, 112, 128)     73856     \n",
      "_________________________________________________________________\n",
      "block2_conv2 (Conv2D)        (None, 112, 112, 128)     147584    \n",
      "_________________________________________________________________\n",
      "block2_pool (MaxPooling2D)   (None, 56, 56, 128)       0         \n",
      "_________________________________________________________________\n",
      "block3_conv1 (Conv2D)        (None, 56, 56, 256)       295168    \n",
      "_________________________________________________________________\n",
      "block3_conv2 (Conv2D)        (None, 56, 56, 256)       590080    \n",
      "_________________________________________________________________\n",
      "block3_conv3 (Conv2D)        (None, 56, 56, 256)       590080    \n",
      "_________________________________________________________________\n",
      "block3_pool (MaxPooling2D)   (None, 28, 28, 256)       0         \n",
      "_________________________________________________________________\n",
      "block4_conv1 (Conv2D)        (None, 28, 28, 512)       1180160   \n",
      "_________________________________________________________________\n",
      "block4_conv2 (Conv2D)        (None, 28, 28, 512)       2359808   \n",
      "_________________________________________________________________\n",
      "block4_conv3 (Conv2D)        (None, 28, 28, 512)       2359808   \n",
      "_________________________________________________________________\n",
      "block4_pool (MaxPooling2D)   (None, 14, 14, 512)       0         \n",
      "_________________________________________________________________\n",
      "block5_conv1 (Conv2D)        (None, 14, 14, 512)       2359808   \n",
      "_________________________________________________________________\n",
      "block5_conv2 (Conv2D)        (None, 14, 14, 512)       2359808   \n",
      "_________________________________________________________________\n",
      "block5_conv3 (Conv2D)        (None, 14, 14, 512)       2359808   \n",
      "_________________________________________________________________\n",
      "block5_pool (MaxPooling2D)   (None, 7, 7, 512)         0         \n",
      "_________________________________________________________________\n",
      "flatten_1 (Flatten)          (None, 25088)             0         \n",
      "_________________________________________________________________\n",
      "dropout_1 (Dropout)          (None, 25088)             0         \n",
      "_________________________________________________________________\n",
      "dense_1 (Dense)              (None, 10)                250890    \n",
      "=================================================================\n",
      "Total params: 14,965,578\n",
      "Trainable params: 14,965,578\n",
      "Non-trainable params: 0\n",
      "_________________________________________________________________\n",
      "model loading\n"
     ]
    }
   ],
   "source": [
    "model = load_model(os.path.join('saved_models',saved_model))\n",
    "model.summary()\n",
    "logging.debug(f\"model.summary():{model.summary()}\")\n",
    "print('model loading')"
   ]
  },
  {
   "cell_type": "code",
   "execution_count": 13,
   "metadata": {},
   "outputs": [
    {
     "name": "stdout",
     "output_type": "stream",
     "text": [
      "(893, 224, 224, 3)\n"
     ]
    }
   ],
   "source": [
    "imageTest = np.array(test_img_data_list)\n",
    "imageTest = imageTest.astype('float32')\n",
    "print(imageTest.shape)\n",
    "logging.debug(f\"imageTest.shape:{imageTest.shape}\")"
   ]
  },
  {
   "cell_type": "code",
   "execution_count": 14,
   "metadata": {},
   "outputs": [
    {
     "name": "stdout",
     "output_type": "stream",
     "text": [
      "[1 1 8 8 8 8 0 0 6 6 8 8 8 0 8 0 1 6 8 8 8 8 8 8 1 1 1 5 8 8 1 6 8 8 6 6 0\n",
      " 0 1 0 8 8 8 0 8 8 0 0 0 8 8 8 8 8 0 0 8 8 8 8 1 6 8 8 0 0 1 6 0 8 0 0 1 6\n",
      " 8 8 1 0 8 8 1 1 8 0 8 8 8 8 8 8 8 0 6 6 8 8 7 6 8 0 1 1 1 1 1 1 1 1 1 1 1\n",
      " 1 1 1 1 1 1 1 1 1 1 1 1 1 1 1 1 1 1 1 1 1 1 1 1 1 1 1 1 1 1 1 1 1 1 1 1 1\n",
      " 1 1 1 1 1 1 1 1 1 1 1 1 1 1 1 1 1 1 1 1 1 1 1 1 1 1 1 1 1 1 1 1 1 1 1 1 1\n",
      " 1 1 1 1 1 1 1 1 1 1 1 1 1 1 1 1 1 1 1 1 1 1 1 1 1 1 1 1 1 1 1 1 1 1 1 9 9\n",
      " 0 0 7 1 0 0 7 7 7 7 7 7 7 5 0 0 7 1 0 1 1 6 8 6 6 6 6 6 6 6 6 4 4 4 4 4 4\n",
      " 4 0 0 0 0 0 0 0 0 0 1 1 1 1 5 0 1 1 5 3 3 3 3 1 5 1 1 8 8 8 8 1 1 1 1 0 0\n",
      " 0 0 0 0 0 0 0 5 0 0 0 1 1 0 1 1 1 1 5 5 5 1 0 0 0 0 5 0 0 5 1 5 5 5 5 5 5\n",
      " 0 0 0 0 0 0 0 5 1 0 0 0 0 0 0 0 0 1 1 1 1 0 0 0 5 5 0 0 0 0 0 0 0 0 0 0 8\n",
      " 0 8 0 0 0 0 1 0 0 0 0 0 0 0 0 0 0 0 0 8 0 8 0 0 1 1 1 5 5 1 5 0 1 7 0 1 5\n",
      " 1 1 0 0 0 0 0 0 0 0 0 0 0 0 0 0 0 0 0 0 0 0 0 0 0 0 0 0 0 0 0 0 0 0 0 0 0\n",
      " 0 0 0 0 1 0 5 0 5 5 5 5 5 0 5 1 5 0 5 5 5 0 0 0 0 0 0 0 0 0 0 0 0 0 0 0 0\n",
      " 0 0 0 0 0 0 0 0 0 0 0 0 0 0 0 0 0 0 0 0 0 0 0 0 8 6 6 0 5 5 5 5 5 5 5 5 5\n",
      " 0 0 0 0 0 0 0 0 0 0 1 0 0 0 0 0 0 0 0 8 0 8 0 0 0 0 0 0 0 0 0 0 5 0 0 0 0\n",
      " 0 1 8 0 8 0 0 0 0 0 1 0 0 0 0 0 0 0 0 0 0 0 0 0 0 0 5 5 5 5 0 0 0 1 0 0 1\n",
      " 1 0 0 0 0 0 0 0 0 0 0 0 0 0 1 0 0 0 0 0 0 0 0 0 0 0 0 0 0 0 0 7 0 0 0 1 0\n",
      " 0 0 0 0 0 0 0 0 0 0 0 0 0 0 0 0 0 0 0 0 0 0 0 0 0 0 0 0 0 0 0 0 0 0 0 0 0\n",
      " 0 0 0 0 0 0 6 0 0 0 0 0 1 0 0 0 0 0 0 0 5 0 0 0 0 0 0 0 0 0 0 0 0 0 0 0 0\n",
      " 0 0 0 0 1 1 0 0 0 0 0 0 0 0 0 0 0 0 0 0 0 0 0 0 0 0 0 0 0 0 1 0 0 1 0 0 0\n",
      " 0 0 0 0 0 5 5 0 0 1 0 0 0 0 0 0 0 0 0 0 0 0 0 0 0 0 5 1 1 5 0 0 0 0 0 0 0\n",
      " 0 0 0 0 0 0 0 0 0 0 0 0 0 0 0 0 0 0 0 0 0 0 0 0 1 1 1 1 0 0 0 0 0 0 0 0 0\n",
      " 0 0 0 0 0 0 0 0 0 0 0 0 0 0 0 1 0 0 0 0 3 0 0 0 0 0 0 0 0 0 0 1 0 0 0 0 0\n",
      " 0 0 0 0 0 0 0 0 0 0 0 0 0 0 0 0 0 0 1 0 0 0 0 0 0 0 0 0 0 0 0 0 0 0 0 0 0\n",
      " 0 0 5 0 0]\n",
      "[8 8 8 8 8 8 8 8 8 8 8 8 8 8 8 8 8 8 8 8 8 8 8 8 8 8 8 8 8 8 8 8 8 8 8 8 8\n",
      " 8 8 8 8 8 8 8 8 8 8 8 8 8 8 8 8 8 8 8 8 8 8 8 8 8 8 8 8 8 8 8 8 8 8 8 8 8\n",
      " 8 8 8 8 8 8 8 8 8 8 8 8 8 8 8 8 8 8 8 8 8 8 8 8 8 8 1 1 1 1 1 1 1 1 1 1 1\n",
      " 1 1 1 1 1 1 1 1 1 1 1 1 1 1 1 1 1 1 1 1 1 1 1 1 1 1 1 1 1 1 1 1 1 1 1 1 1\n",
      " 1 1 1 1 1 1 1 1 1 1 1 1 1 1 1 1 1 1 1 1 1 1 1 1 1 1 1 1 1 1 1 1 1 1 1 1 1\n",
      " 1 1 1 1 1 1 1 1 1 1 1 1 1 1 1 1 1 1 1 1 1 1 1 1 1 1 1 1 1 1 1 1 1 1 1 9 9\n",
      " 7 7 7 7 7 7 7 7 7 7 7 7 7 7 7 7 7 7 7 7 6 6 6 6 6 6 6 6 6 6 6 4 4 4 4 4 4\n",
      " 4 5 5 5 5 5 5 5 5 5 5 5 5 4 5 5 5 5 5 3 3 3 3 2 2 2 2 2 2 2 2 2 2 2 2 0 0\n",
      " 0 0 0 0 0 0 0 0 0 0 0 0 0 0 0 0 0 0 0 0 0 0 0 0 0 0 0 0 0 0 0 0 0 0 0 0 0\n",
      " 0 0 0 0 0 0 0 0 0 0 0 0 0 0 0 0 0 0 0 0 0 0 0 0 0 0 0 0 0 0 0 0 0 0 0 0 0\n",
      " 0 0 0 0 0 0 0 0 0 0 0 0 0 0 0 0 0 0 0 0 0 0 0 0 0 0 0 0 0 0 0 0 0 0 0 0 0\n",
      " 0 0 0 0 0 0 0 0 0 0 0 0 0 0 0 0 0 0 0 0 0 0 0 0 0 0 0 0 0 0 0 0 0 0 0 0 0\n",
      " 0 0 0 0 0 0 0 0 0 0 0 0 0 0 0 0 0 0 0 0 0 0 0 0 0 0 0 0 0 0 0 0 0 0 0 0 0\n",
      " 0 0 0 0 0 0 0 0 0 0 0 0 0 0 0 0 0 0 0 0 0 0 0 0 0 0 0 0 0 0 0 0 0 0 0 0 0\n",
      " 0 0 0 0 0 0 0 0 0 0 0 0 0 0 0 0 0 0 0 0 0 0 0 0 0 0 0 0 0 0 0 0 0 0 0 0 0\n",
      " 0 0 0 0 0 0 0 0 0 0 0 0 0 0 0 0 0 0 0 0 0 0 0 0 0 0 0 0 0 0 0 0 0 0 0 0 0\n",
      " 0 0 0 0 0 0 0 0 0 0 0 0 0 0 0 0 0 0 0 0 0 0 0 0 0 0 0 0 0 0 0 0 0 0 0 0 0\n",
      " 0 0 0 0 0 0 0 0 0 0 0 0 0 0 0 0 0 0 0 0 0 0 0 0 0 0 0 0 0 0 0 0 0 0 0 0 0\n",
      " 0 0 0 0 0 0 0 0 0 0 0 0 0 0 0 0 0 0 0 0 0 0 0 0 0 0 0 0 0 0 0 0 0 0 0 0 0\n",
      " 0 0 0 0 0 0 0 0 0 0 0 0 0 0 0 0 0 0 0 0 0 0 0 0 0 0 0 0 0 0 0 0 0 0 0 0 0\n",
      " 0 0 0 0 0 0 0 0 0 0 0 0 0 0 0 0 0 0 0 0 0 0 0 0 0 0 0 0 0 0 0 0 0 0 0 0 0\n",
      " 0 0 0 0 0 0 0 0 0 0 0 0 0 0 0 0 0 0 0 0 0 0 0 0 0 0 0 0 0 0 0 0 0 0 0 0 0\n",
      " 0 0 0 0 0 0 0 0 0 0 0 0 0 0 0 0 0 0 0 0 0 0 0 0 0 0 0 0 0 0 0 0 0 0 0 0 0\n",
      " 0 0 0 0 0 0 0 0 0 0 0 0 0 0 0 0 0 0 0 0 0 0 0 0 0 0 0 0 0 0 0 0 0 0 0 0 0\n",
      " 0 0 0 0 0]\n"
     ]
    },
    {
     "data": {
      "text/plain": [
       "0.77267637178051507"
      ]
     },
     "execution_count": 14,
     "metadata": {},
     "output_type": "execute_result"
    }
   ],
   "source": [
    "from sklearn.metrics import accuracy_score\n",
    "\n",
    "y_ans = model.predict(imageTest)\n",
    "y_pred = y_ans.argmax(axis=-1)\n",
    "\n",
    "y_true = np.array(test_img_class,dtype=int)\n",
    "\n",
    "print(y_pred)\n",
    "print(y_true)\n",
    "logging.debug(f\"y_pred:{y_pred}\\ny_true:{y_true}\")\n",
    "accuracy_score(y_true, y_pred)"
   ]
  },
  {
   "cell_type": "code",
   "execution_count": 15,
   "metadata": {},
   "outputs": [],
   "source": [
    "from sklearn.metrics import accuracy_score\n",
    "\n",
    "acc_s=accuracy_score(np.array(test_img_class,dtype=int), y_pred)\n",
    "logging.debug(f\"accuracy_score:{acc_s}\")"
   ]
  },
  {
   "cell_type": "code",
   "execution_count": 16,
   "metadata": {},
   "outputs": [
    {
     "data": {
      "text/plain": [
       "array([[487,  47,   0,   1,   0,  50,   3,   2,   9,   0],\n",
       "       [  0, 120,   0,   0,   0,   0,   0,   0,   0,   0],\n",
       "       [  0,   7,   0,   0,   0,   1,   0,   0,   4,   0],\n",
       "       [  0,   0,   0,   4,   0,   0,   0,   0,   0,   0],\n",
       "       [  0,   1,   0,   0,   7,   0,   0,   0,   0,   0],\n",
       "       [ 10,   5,   0,   0,   0,   2,   0,   0,   0,   0],\n",
       "       [  0,   1,   0,   0,   0,   0,   9,   0,   1,   0],\n",
       "       [  7,   3,   0,   0,   0,   1,   0,   9,   0,   0],\n",
       "       [ 22,  14,   0,   0,   0,   1,  12,   1,  50,   0],\n",
       "       [  0,   0,   0,   0,   0,   0,   0,   0,   0,   2]])"
      ]
     },
     "execution_count": 16,
     "metadata": {},
     "output_type": "execute_result"
    }
   ],
   "source": [
    "from sklearn.metrics import confusion_matrix\n",
    "conmatrix = confusion_matrix(np.array(test_img_class,dtype=int), y_pred,labels=range(len(target_labels)))\n",
    "logging.debug(f\"{conmatrix}\")\n",
    "conmatrix"
   ]
  },
  {
   "cell_type": "code",
   "execution_count": 17,
   "metadata": {},
   "outputs": [
    {
     "name": "stdout",
     "output_type": "stream",
     "text": [
      "Pass: 0.813021702838\n",
      "Missing: 1.0\n",
      "MissAlignment: 0.0\n",
      "Tombstone_SideStanding: 1.0\n",
      "PartsReversed: 0.875\n",
      "ExcessComponent: 0.117647058824\n",
      "Other_Damage: 0.818181818182\n",
      "VoidSolder_Short: 0.45\n",
      "TextMissing: 0.5\n",
      "tag: 1.0\n"
     ]
    }
   ],
   "source": [
    "for i in range(len(target_labels)):\n",
    "    x = conmatrix[i][i] / conmatrix.sum(axis= 1)[i] \n",
    "    print(target_labels[str(i)] + \": \"+ str(x))\n",
    "    logging.debug(f\"{target_labels[str(i)]}:{str(x)}\")"
   ]
  },
  {
   "cell_type": "code",
   "execution_count": 18,
   "metadata": {},
   "outputs": [
    {
     "name": "stdout",
     "output_type": "stream",
     "text": [
      "Pass:599\n",
      "Missing:120\n",
      "MissAlignment:12\n",
      "Tombstone_SideStanding:4\n",
      "PartsReversed:8\n",
      "ExcessComponent:17\n",
      "Other_Damage:11\n",
      "VoidSolder_Short:20\n",
      "TextMissing:100\n",
      "tag:2\n"
     ]
    }
   ],
   "source": [
    "for i in range(len(target_labels)):\n",
    "    print(f\"{target_labels[str(i)]}:{conmatrix.sum(axis= 1)[i]}\")"
   ]
  },
  {
   "cell_type": "markdown",
   "metadata": {},
   "source": [
    "## confusion_matrix"
   ]
  },
  {
   "cell_type": "code",
   "execution_count": 19,
   "metadata": {},
   "outputs": [
    {
     "name": "stdout",
     "output_type": "stream",
     "text": [
      "ACCURACY: 0.8309\n",
      "PRECISION: 0.8130\n",
      "RECALL: 0.9259\n",
      "F1_SCORE: 0.8658\n"
     ]
    }
   ],
   "source": [
    "TP = conmatrix[0][0]\n",
    "FP = conmatrix.sum(axis= 1)[0] - TP\n",
    "FN = conmatrix.sum(axis= 0)[0] - TP\n",
    "TN = len(y_pred) - conmatrix.sum(axis= 1)[0] - conmatrix.sum(axis= 0)[0] + TP\n",
    "ACCURACY = (TP+TN)/len(y_pred)\n",
    "PRECISION = TP/(TP+FP)\n",
    "RECALL = TP/(TP+FN)\n",
    "F1_SCORE = 2/(1/PRECISION + 1/RECALL)\n",
    "print(f\"ACCURACY: {ACCURACY:.4f}\")\n",
    "print(f\"PRECISION: {PRECISION:.4f}\")\n",
    "print(f\"RECALL: {RECALL:.4f}\")\n",
    "print(f\"F1_SCORE: {F1_SCORE:.4f}\")\n",
    "logging.debug(f\"ACCURACY:{ACCURACY}\\nPRECISION:{PRECISION}\\nRECALL:{RECALL}\\nF1_SCORE:{F1_SCORE}\")"
   ]
  },
  {
   "cell_type": "code",
   "execution_count": null,
   "metadata": {},
   "outputs": [],
   "source": []
  }
 ],
 "metadata": {
  "kernelspec": {
   "display_name": "Python 3",
   "language": "python",
   "name": "python3"
  },
  "language_info": {
   "codemirror_mode": {
    "name": "ipython",
    "version": 3
   },
   "file_extension": ".py",
   "mimetype": "text/x-python",
   "name": "python",
   "nbconvert_exporter": "python",
   "pygments_lexer": "ipython3",
   "version": "3.5.5"
  }
 },
 "nbformat": 4,
 "nbformat_minor": 2
}
